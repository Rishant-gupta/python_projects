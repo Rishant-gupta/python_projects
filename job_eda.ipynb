{
 "cells": [
  {
   "cell_type": "markdown",
   "id": "5163693c",
   "metadata": {},
   "source": [
    "## Importing necessary libraries"
   ]
  },
  {
   "cell_type": "code",
   "execution_count": 2,
   "id": "df87241a",
   "metadata": {},
   "outputs": [],
   "source": [
    "import pandas as pd\n",
    "import numpy as np\n",
    "import matplotlib.pyplot as plt\n",
    "import seaborn as sns"
   ]
  },
  {
   "cell_type": "markdown",
   "id": "1d3ec3ac",
   "metadata": {},
   "source": [
    "## Dataset Overview\n",
    "*Load the dataset and view the first few rows*"
   ]
  },
  {
   "cell_type": "code",
   "execution_count": 3,
   "id": "bd2b1e60",
   "metadata": {},
   "outputs": [],
   "source": [
    "df = pd.read_csv(\"job_market_dataset.csv\")"
   ]
  },
  {
   "cell_type": "code",
   "execution_count": 4,
   "id": "30b746cd",
   "metadata": {},
   "outputs": [
    {
     "data": {
      "text/html": [
       "<div>\n",
       "<style scoped>\n",
       "    .dataframe tbody tr th:only-of-type {\n",
       "        vertical-align: middle;\n",
       "    }\n",
       "\n",
       "    .dataframe tbody tr th {\n",
       "        vertical-align: top;\n",
       "    }\n",
       "\n",
       "    .dataframe thead th {\n",
       "        text-align: right;\n",
       "    }\n",
       "</style>\n",
       "<table border=\"1\" class=\"dataframe\">\n",
       "  <thead>\n",
       "    <tr style=\"text-align: right;\">\n",
       "      <th></th>\n",
       "      <th>Job_Title</th>\n",
       "      <th>Experience_Years</th>\n",
       "      <th>Education_Level</th>\n",
       "      <th>Salary</th>\n",
       "      <th>Job_Type</th>\n",
       "      <th>Location</th>\n",
       "      <th>Company_Size</th>\n",
       "      <th>Age</th>\n",
       "      <th>Industry</th>\n",
       "      <th>Remote_Work</th>\n",
       "      <th>Skills</th>\n",
       "      <th>Performance_Rating</th>\n",
       "    </tr>\n",
       "  </thead>\n",
       "  <tbody>\n",
       "    <tr>\n",
       "      <th>0</th>\n",
       "      <td>Sales Executive</td>\n",
       "      <td>26</td>\n",
       "      <td>Master</td>\n",
       "      <td>92976.0</td>\n",
       "      <td>Full-time</td>\n",
       "      <td>Boston</td>\n",
       "      <td>Enterprise</td>\n",
       "      <td>31</td>\n",
       "      <td>Finance</td>\n",
       "      <td>No</td>\n",
       "      <td>Data Analysis</td>\n",
       "      <td>3</td>\n",
       "    </tr>\n",
       "    <tr>\n",
       "      <th>1</th>\n",
       "      <td>Teacher</td>\n",
       "      <td>25</td>\n",
       "      <td>High School</td>\n",
       "      <td>145391.0</td>\n",
       "      <td>Internship</td>\n",
       "      <td>Seattle</td>\n",
       "      <td>Small</td>\n",
       "      <td>37</td>\n",
       "      <td>Finance</td>\n",
       "      <td>No</td>\n",
       "      <td>Marketing</td>\n",
       "      <td>5</td>\n",
       "    </tr>\n",
       "    <tr>\n",
       "      <th>2</th>\n",
       "      <td>Nurse</td>\n",
       "      <td>13</td>\n",
       "      <td>PhD</td>\n",
       "      <td>141509.0</td>\n",
       "      <td>Contract</td>\n",
       "      <td>Chicago</td>\n",
       "      <td>Small</td>\n",
       "      <td>45</td>\n",
       "      <td>Retail</td>\n",
       "      <td>No</td>\n",
       "      <td>Java</td>\n",
       "      <td>5</td>\n",
       "    </tr>\n",
       "    <tr>\n",
       "      <th>3</th>\n",
       "      <td>Sales Executive</td>\n",
       "      <td>16</td>\n",
       "      <td>High School</td>\n",
       "      <td>105447.0</td>\n",
       "      <td>Contract</td>\n",
       "      <td>Boston</td>\n",
       "      <td>Enterprise</td>\n",
       "      <td>38</td>\n",
       "      <td>Education</td>\n",
       "      <td>Yes</td>\n",
       "      <td>Python</td>\n",
       "      <td>2</td>\n",
       "    </tr>\n",
       "    <tr>\n",
       "      <th>4</th>\n",
       "      <td>Accountant</td>\n",
       "      <td>17</td>\n",
       "      <td>High School</td>\n",
       "      <td>129522.0</td>\n",
       "      <td>Internship</td>\n",
       "      <td>San Francisco</td>\n",
       "      <td>Medium</td>\n",
       "      <td>40</td>\n",
       "      <td>Education</td>\n",
       "      <td>Yes</td>\n",
       "      <td>SQL</td>\n",
       "      <td>2</td>\n",
       "    </tr>\n",
       "    <tr>\n",
       "      <th>5</th>\n",
       "      <td>Nurse</td>\n",
       "      <td>28</td>\n",
       "      <td>Master</td>\n",
       "      <td>75965.0</td>\n",
       "      <td>Internship</td>\n",
       "      <td>Boston</td>\n",
       "      <td>Medium</td>\n",
       "      <td>28</td>\n",
       "      <td>Education</td>\n",
       "      <td>Yes</td>\n",
       "      <td>Python</td>\n",
       "      <td>5</td>\n",
       "    </tr>\n",
       "    <tr>\n",
       "      <th>6</th>\n",
       "      <td>Nurse</td>\n",
       "      <td>19</td>\n",
       "      <td>High School</td>\n",
       "      <td>101144.0</td>\n",
       "      <td>Contract</td>\n",
       "      <td>Austin</td>\n",
       "      <td>Large</td>\n",
       "      <td>19</td>\n",
       "      <td>Retail</td>\n",
       "      <td>No</td>\n",
       "      <td>Data Analysis</td>\n",
       "      <td>2</td>\n",
       "    </tr>\n",
       "    <tr>\n",
       "      <th>7</th>\n",
       "      <td>Sales Executive</td>\n",
       "      <td>26</td>\n",
       "      <td>PhD</td>\n",
       "      <td>137433.0</td>\n",
       "      <td>Contract</td>\n",
       "      <td>Seattle</td>\n",
       "      <td>Medium</td>\n",
       "      <td>37</td>\n",
       "      <td>Retail</td>\n",
       "      <td>Yes</td>\n",
       "      <td>Marketing</td>\n",
       "      <td>2</td>\n",
       "    </tr>\n",
       "    <tr>\n",
       "      <th>8</th>\n",
       "      <td>Data Scientist</td>\n",
       "      <td>17</td>\n",
       "      <td>Bachelor</td>\n",
       "      <td>115201.0</td>\n",
       "      <td>Contract</td>\n",
       "      <td>Seattle</td>\n",
       "      <td>Small</td>\n",
       "      <td>41</td>\n",
       "      <td>IT</td>\n",
       "      <td>Yes</td>\n",
       "      <td>C++</td>\n",
       "      <td>4</td>\n",
       "    </tr>\n",
       "    <tr>\n",
       "      <th>9</th>\n",
       "      <td>Accountant</td>\n",
       "      <td>3</td>\n",
       "      <td>Master</td>\n",
       "      <td>NaN</td>\n",
       "      <td>Part-time</td>\n",
       "      <td>Chicago</td>\n",
       "      <td>Enterprise</td>\n",
       "      <td>42</td>\n",
       "      <td>Finance</td>\n",
       "      <td>No</td>\n",
       "      <td>Excel</td>\n",
       "      <td>5</td>\n",
       "    </tr>\n",
       "  </tbody>\n",
       "</table>\n",
       "</div>"
      ],
      "text/plain": [
       "         Job_Title  Experience_Years Education_Level    Salary    Job_Type  \\\n",
       "0  Sales Executive                26          Master   92976.0   Full-time   \n",
       "1          Teacher                25     High School  145391.0  Internship   \n",
       "2            Nurse                13             PhD  141509.0    Contract   \n",
       "3  Sales Executive                16     High School  105447.0    Contract   \n",
       "4       Accountant                17     High School  129522.0  Internship   \n",
       "5            Nurse                28          Master   75965.0  Internship   \n",
       "6            Nurse                19     High School  101144.0    Contract   \n",
       "7  Sales Executive                26             PhD  137433.0    Contract   \n",
       "8   Data Scientist                17        Bachelor  115201.0    Contract   \n",
       "9       Accountant                 3          Master       NaN   Part-time   \n",
       "\n",
       "        Location Company_Size  Age   Industry Remote_Work         Skills  \\\n",
       "0         Boston   Enterprise   31    Finance          No  Data Analysis   \n",
       "1        Seattle        Small   37    Finance          No      Marketing   \n",
       "2        Chicago        Small   45     Retail          No           Java   \n",
       "3         Boston   Enterprise   38  Education         Yes         Python   \n",
       "4  San Francisco       Medium   40  Education         Yes            SQL   \n",
       "5         Boston       Medium   28  Education         Yes         Python   \n",
       "6         Austin        Large   19     Retail          No  Data Analysis   \n",
       "7        Seattle       Medium   37     Retail         Yes      Marketing   \n",
       "8        Seattle        Small   41         IT         Yes            C++   \n",
       "9        Chicago   Enterprise   42    Finance          No          Excel   \n",
       "\n",
       "   Performance_Rating  \n",
       "0                   3  \n",
       "1                   5  \n",
       "2                   5  \n",
       "3                   2  \n",
       "4                   2  \n",
       "5                   5  \n",
       "6                   2  \n",
       "7                   2  \n",
       "8                   4  \n",
       "9                   5  "
      ]
     },
     "execution_count": 4,
     "metadata": {},
     "output_type": "execute_result"
    }
   ],
   "source": [
    "df.head(10)"
   ]
  },
  {
   "cell_type": "markdown",
   "id": "0b4f48a4",
   "metadata": {},
   "source": [
    "*Check dataset dimensions (rows and columns).*"
   ]
  },
  {
   "cell_type": "code",
   "execution_count": 5,
   "id": "f81c0a37",
   "metadata": {},
   "outputs": [
    {
     "data": {
      "text/plain": [
       "(5050, 12)"
      ]
     },
     "execution_count": 5,
     "metadata": {},
     "output_type": "execute_result"
    }
   ],
   "source": [
    "df.shape"
   ]
  },
  {
   "cell_type": "markdown",
   "id": "7329405e",
   "metadata": {},
   "source": [
    "*Identify the type of data present in each column (numerical, categorical, or textual).*"
   ]
  },
  {
   "cell_type": "code",
   "execution_count": 6,
   "id": "2cdd9824",
   "metadata": {},
   "outputs": [
    {
     "data": {
      "text/plain": [
       "Job_Title              object\n",
       "Experience_Years        int64\n",
       "Education_Level        object\n",
       "Salary                float64\n",
       "Job_Type               object\n",
       "Location               object\n",
       "Company_Size           object\n",
       "Age                     int64\n",
       "Industry               object\n",
       "Remote_Work            object\n",
       "Skills                 object\n",
       "Performance_Rating      int64\n",
       "dtype: object"
      ]
     },
     "execution_count": 6,
     "metadata": {},
     "output_type": "execute_result"
    }
   ],
   "source": [
    "df.dtypes"
   ]
  },
  {
   "cell_type": "markdown",
   "id": "d0771085",
   "metadata": {},
   "source": [
    "## Data Quality Check"
   ]
  },
  {
   "cell_type": "code",
   "execution_count": 7,
   "id": "1d81c0bf",
   "metadata": {},
   "outputs": [
    {
     "name": "stdout",
     "output_type": "stream",
     "text": [
      "<class 'pandas.core.frame.DataFrame'>\n",
      "RangeIndex: 5050 entries, 0 to 5049\n",
      "Data columns (total 12 columns):\n",
      " #   Column              Non-Null Count  Dtype  \n",
      "---  ------              --------------  -----  \n",
      " 0   Job_Title           5050 non-null   object \n",
      " 1   Experience_Years    5050 non-null   int64  \n",
      " 2   Education_Level     5050 non-null   object \n",
      " 3   Salary              4797 non-null   float64\n",
      " 4   Job_Type            5050 non-null   object \n",
      " 5   Location            4798 non-null   object \n",
      " 6   Company_Size        5050 non-null   object \n",
      " 7   Age                 5050 non-null   int64  \n",
      " 8   Industry            5050 non-null   object \n",
      " 9   Remote_Work         5050 non-null   object \n",
      " 10  Skills              4798 non-null   object \n",
      " 11  Performance_Rating  5050 non-null   int64  \n",
      "dtypes: float64(1), int64(3), object(8)\n",
      "memory usage: 473.6+ KB\n"
     ]
    }
   ],
   "source": [
    "df.info()"
   ]
  },
  {
   "cell_type": "markdown",
   "id": "2e7f2219",
   "metadata": {},
   "source": [
    "*Detect missing values in the dataset*"
   ]
  },
  {
   "cell_type": "code",
   "execution_count": 8,
   "id": "1e453762",
   "metadata": {},
   "outputs": [
    {
     "data": {
      "text/plain": [
       "Job_Title             5050\n",
       "Experience_Years      5050\n",
       "Education_Level       5050\n",
       "Salary                4797\n",
       "Job_Type              5050\n",
       "Location              4798\n",
       "Company_Size          5050\n",
       "Age                   5050\n",
       "Industry              5050\n",
       "Remote_Work           5050\n",
       "Skills                4798\n",
       "Performance_Rating    5050\n",
       "dtype: int64"
      ]
     },
     "execution_count": 8,
     "metadata": {},
     "output_type": "execute_result"
    }
   ],
   "source": [
    "df.count()"
   ]
  },
  {
   "cell_type": "code",
   "execution_count": 9,
   "id": "ef074686",
   "metadata": {},
   "outputs": [
    {
     "data": {
      "text/plain": [
       "Job_Title               0\n",
       "Experience_Years        0\n",
       "Education_Level         0\n",
       "Salary                253\n",
       "Job_Type                0\n",
       "Location              252\n",
       "Company_Size            0\n",
       "Age                     0\n",
       "Industry                0\n",
       "Remote_Work             0\n",
       "Skills                252\n",
       "Performance_Rating      0\n",
       "dtype: int64"
      ]
     },
     "execution_count": 9,
     "metadata": {},
     "output_type": "execute_result"
    }
   ],
   "source": [
    "df.isnull().sum()"
   ]
  },
  {
   "cell_type": "code",
   "execution_count": 10,
   "id": "f857fced",
   "metadata": {},
   "outputs": [
    {
     "data": {
      "text/html": [
       "<div>\n",
       "<style scoped>\n",
       "    .dataframe tbody tr th:only-of-type {\n",
       "        vertical-align: middle;\n",
       "    }\n",
       "\n",
       "    .dataframe tbody tr th {\n",
       "        vertical-align: top;\n",
       "    }\n",
       "\n",
       "    .dataframe thead th {\n",
       "        text-align: right;\n",
       "    }\n",
       "</style>\n",
       "<table border=\"1\" class=\"dataframe\">\n",
       "  <thead>\n",
       "    <tr style=\"text-align: right;\">\n",
       "      <th></th>\n",
       "      <th>Experience_Years</th>\n",
       "      <th>Salary</th>\n",
       "      <th>Age</th>\n",
       "      <th>Performance_Rating</th>\n",
       "    </tr>\n",
       "  </thead>\n",
       "  <tbody>\n",
       "    <tr>\n",
       "      <th>count</th>\n",
       "      <td>5050.000000</td>\n",
       "      <td>4.797000e+03</td>\n",
       "      <td>5050.000000</td>\n",
       "      <td>5050.000000</td>\n",
       "    </tr>\n",
       "    <tr>\n",
       "      <th>mean</th>\n",
       "      <td>16.973861</td>\n",
       "      <td>8.565064e+04</td>\n",
       "      <td>41.339604</td>\n",
       "      <td>2.993267</td>\n",
       "    </tr>\n",
       "    <tr>\n",
       "      <th>std</th>\n",
       "      <td>9.918948</td>\n",
       "      <td>6.675948e+04</td>\n",
       "      <td>13.603462</td>\n",
       "      <td>1.403090</td>\n",
       "    </tr>\n",
       "    <tr>\n",
       "      <th>min</th>\n",
       "      <td>0.000000</td>\n",
       "      <td>1.000000e+00</td>\n",
       "      <td>10.000000</td>\n",
       "      <td>1.000000</td>\n",
       "    </tr>\n",
       "    <tr>\n",
       "      <th>25%</th>\n",
       "      <td>9.000000</td>\n",
       "      <td>4.995400e+04</td>\n",
       "      <td>30.000000</td>\n",
       "      <td>2.000000</td>\n",
       "    </tr>\n",
       "    <tr>\n",
       "      <th>50%</th>\n",
       "      <td>17.000000</td>\n",
       "      <td>8.403700e+04</td>\n",
       "      <td>41.000000</td>\n",
       "      <td>3.000000</td>\n",
       "    </tr>\n",
       "    <tr>\n",
       "      <th>75%</th>\n",
       "      <td>25.000000</td>\n",
       "      <td>1.169170e+05</td>\n",
       "      <td>53.000000</td>\n",
       "      <td>4.000000</td>\n",
       "    </tr>\n",
       "    <tr>\n",
       "      <th>max</th>\n",
       "      <td>34.000000</td>\n",
       "      <td>3.000000e+06</td>\n",
       "      <td>120.000000</td>\n",
       "      <td>5.000000</td>\n",
       "    </tr>\n",
       "  </tbody>\n",
       "</table>\n",
       "</div>"
      ],
      "text/plain": [
       "       Experience_Years        Salary          Age  Performance_Rating\n",
       "count       5050.000000  4.797000e+03  5050.000000         5050.000000\n",
       "mean          16.973861  8.565064e+04    41.339604            2.993267\n",
       "std            9.918948  6.675948e+04    13.603462            1.403090\n",
       "min            0.000000  1.000000e+00    10.000000            1.000000\n",
       "25%            9.000000  4.995400e+04    30.000000            2.000000\n",
       "50%           17.000000  8.403700e+04    41.000000            3.000000\n",
       "75%           25.000000  1.169170e+05    53.000000            4.000000\n",
       "max           34.000000  3.000000e+06   120.000000            5.000000"
      ]
     },
     "execution_count": 10,
     "metadata": {},
     "output_type": "execute_result"
    }
   ],
   "source": [
    "df.describe()"
   ]
  },
  {
   "cell_type": "markdown",
   "id": "b59f4ced",
   "metadata": {},
   "source": [
    "*Identify duplicate rows.*"
   ]
  },
  {
   "cell_type": "code",
   "execution_count": 11,
   "id": "59fce378",
   "metadata": {},
   "outputs": [
    {
     "data": {
      "text/plain": [
       "np.int64(50)"
      ]
     },
     "execution_count": 11,
     "metadata": {},
     "output_type": "execute_result"
    }
   ],
   "source": [
    "df.duplicated().sum()"
   ]
  },
  {
   "cell_type": "code",
   "execution_count": 12,
   "id": "1a78a227",
   "metadata": {},
   "outputs": [
    {
     "data": {
      "text/html": [
       "<div>\n",
       "<style scoped>\n",
       "    .dataframe tbody tr th:only-of-type {\n",
       "        vertical-align: middle;\n",
       "    }\n",
       "\n",
       "    .dataframe tbody tr th {\n",
       "        vertical-align: top;\n",
       "    }\n",
       "\n",
       "    .dataframe thead th {\n",
       "        text-align: right;\n",
       "    }\n",
       "</style>\n",
       "<table border=\"1\" class=\"dataframe\">\n",
       "  <thead>\n",
       "    <tr style=\"text-align: right;\">\n",
       "      <th></th>\n",
       "      <th>Job_Title</th>\n",
       "      <th>Experience_Years</th>\n",
       "      <th>Education_Level</th>\n",
       "      <th>Salary</th>\n",
       "      <th>Job_Type</th>\n",
       "      <th>Location</th>\n",
       "      <th>Company_Size</th>\n",
       "      <th>Age</th>\n",
       "      <th>Industry</th>\n",
       "      <th>Remote_Work</th>\n",
       "      <th>Skills</th>\n",
       "      <th>Performance_Rating</th>\n",
       "    </tr>\n",
       "  </thead>\n",
       "  <tbody>\n",
       "    <tr>\n",
       "      <th>19</th>\n",
       "      <td>Teacher</td>\n",
       "      <td>16</td>\n",
       "      <td>Master</td>\n",
       "      <td>50924.0</td>\n",
       "      <td>Full-time</td>\n",
       "      <td>New York</td>\n",
       "      <td>Large</td>\n",
       "      <td>47</td>\n",
       "      <td>Education</td>\n",
       "      <td>Yes</td>\n",
       "      <td>SQL</td>\n",
       "      <td>1</td>\n",
       "    </tr>\n",
       "    <tr>\n",
       "      <th>228</th>\n",
       "      <td>Sales Executive</td>\n",
       "      <td>1</td>\n",
       "      <td>Master</td>\n",
       "      <td>143240.0</td>\n",
       "      <td>Full-time</td>\n",
       "      <td>Seattle</td>\n",
       "      <td>Medium</td>\n",
       "      <td>40</td>\n",
       "      <td>IT</td>\n",
       "      <td>No</td>\n",
       "      <td>C++</td>\n",
       "      <td>4</td>\n",
       "    </tr>\n",
       "    <tr>\n",
       "      <th>309</th>\n",
       "      <td>Software Engineer</td>\n",
       "      <td>29</td>\n",
       "      <td>Master</td>\n",
       "      <td>125939.0</td>\n",
       "      <td>Contract</td>\n",
       "      <td>NaN</td>\n",
       "      <td>Large</td>\n",
       "      <td>61</td>\n",
       "      <td>Education</td>\n",
       "      <td>Yes</td>\n",
       "      <td>SQL</td>\n",
       "      <td>1</td>\n",
       "    </tr>\n",
       "    <tr>\n",
       "      <th>313</th>\n",
       "      <td>Accountant</td>\n",
       "      <td>12</td>\n",
       "      <td>High School</td>\n",
       "      <td>88578.0</td>\n",
       "      <td>Contract</td>\n",
       "      <td>Boston</td>\n",
       "      <td>Large</td>\n",
       "      <td>61</td>\n",
       "      <td>Manufacturing</td>\n",
       "      <td>Yes</td>\n",
       "      <td>Data Analysis</td>\n",
       "      <td>3</td>\n",
       "    </tr>\n",
       "    <tr>\n",
       "      <th>412</th>\n",
       "      <td>Marketing Manager</td>\n",
       "      <td>18</td>\n",
       "      <td>High School</td>\n",
       "      <td>31167.0</td>\n",
       "      <td>Full-time</td>\n",
       "      <td>Boston</td>\n",
       "      <td>Enterprise</td>\n",
       "      <td>29</td>\n",
       "      <td>Education</td>\n",
       "      <td>No</td>\n",
       "      <td>SQL</td>\n",
       "      <td>4</td>\n",
       "    </tr>\n",
       "    <tr>\n",
       "      <th>...</th>\n",
       "      <td>...</td>\n",
       "      <td>...</td>\n",
       "      <td>...</td>\n",
       "      <td>...</td>\n",
       "      <td>...</td>\n",
       "      <td>...</td>\n",
       "      <td>...</td>\n",
       "      <td>...</td>\n",
       "      <td>...</td>\n",
       "      <td>...</td>\n",
       "      <td>...</td>\n",
       "      <td>...</td>\n",
       "    </tr>\n",
       "    <tr>\n",
       "      <th>5045</th>\n",
       "      <td>Nurse</td>\n",
       "      <td>32</td>\n",
       "      <td>Bachelor</td>\n",
       "      <td>124663.0</td>\n",
       "      <td>Internship</td>\n",
       "      <td>Boston</td>\n",
       "      <td>Medium</td>\n",
       "      <td>25</td>\n",
       "      <td>Retail</td>\n",
       "      <td>Yes</td>\n",
       "      <td>Python</td>\n",
       "      <td>5</td>\n",
       "    </tr>\n",
       "    <tr>\n",
       "      <th>5046</th>\n",
       "      <td>Software Engineer</td>\n",
       "      <td>21</td>\n",
       "      <td>PhD</td>\n",
       "      <td>108768.0</td>\n",
       "      <td>Contract</td>\n",
       "      <td>Boston</td>\n",
       "      <td>Small</td>\n",
       "      <td>22</td>\n",
       "      <td>Manufacturing</td>\n",
       "      <td>Yes</td>\n",
       "      <td>Java</td>\n",
       "      <td>4</td>\n",
       "    </tr>\n",
       "    <tr>\n",
       "      <th>5047</th>\n",
       "      <td>Nurse</td>\n",
       "      <td>18</td>\n",
       "      <td>Master</td>\n",
       "      <td>99183.0</td>\n",
       "      <td>Part-time</td>\n",
       "      <td>Remote</td>\n",
       "      <td>Enterprise</td>\n",
       "      <td>46</td>\n",
       "      <td>Education</td>\n",
       "      <td>No</td>\n",
       "      <td>Python</td>\n",
       "      <td>5</td>\n",
       "    </tr>\n",
       "    <tr>\n",
       "      <th>5048</th>\n",
       "      <td>Data Scientist</td>\n",
       "      <td>4</td>\n",
       "      <td>Master</td>\n",
       "      <td>NaN</td>\n",
       "      <td>Internship</td>\n",
       "      <td>Austin</td>\n",
       "      <td>Small</td>\n",
       "      <td>21</td>\n",
       "      <td>Manufacturing</td>\n",
       "      <td>Yes</td>\n",
       "      <td>Excel</td>\n",
       "      <td>2</td>\n",
       "    </tr>\n",
       "    <tr>\n",
       "      <th>5049</th>\n",
       "      <td>Teacher</td>\n",
       "      <td>16</td>\n",
       "      <td>Master</td>\n",
       "      <td>50924.0</td>\n",
       "      <td>Full-time</td>\n",
       "      <td>New York</td>\n",
       "      <td>Large</td>\n",
       "      <td>47</td>\n",
       "      <td>Education</td>\n",
       "      <td>Yes</td>\n",
       "      <td>SQL</td>\n",
       "      <td>1</td>\n",
       "    </tr>\n",
       "  </tbody>\n",
       "</table>\n",
       "<p>100 rows × 12 columns</p>\n",
       "</div>"
      ],
      "text/plain": [
       "              Job_Title  Experience_Years Education_Level    Salary  \\\n",
       "19              Teacher                16          Master   50924.0   \n",
       "228     Sales Executive                 1          Master  143240.0   \n",
       "309   Software Engineer                29          Master  125939.0   \n",
       "313          Accountant                12     High School   88578.0   \n",
       "412   Marketing Manager                18     High School   31167.0   \n",
       "...                 ...               ...             ...       ...   \n",
       "5045              Nurse                32        Bachelor  124663.0   \n",
       "5046  Software Engineer                21             PhD  108768.0   \n",
       "5047              Nurse                18          Master   99183.0   \n",
       "5048     Data Scientist                 4          Master       NaN   \n",
       "5049            Teacher                16          Master   50924.0   \n",
       "\n",
       "        Job_Type  Location Company_Size  Age       Industry Remote_Work  \\\n",
       "19     Full-time  New York        Large   47      Education         Yes   \n",
       "228    Full-time   Seattle       Medium   40             IT          No   \n",
       "309     Contract       NaN        Large   61      Education         Yes   \n",
       "313     Contract    Boston        Large   61  Manufacturing         Yes   \n",
       "412    Full-time    Boston   Enterprise   29      Education          No   \n",
       "...          ...       ...          ...  ...            ...         ...   \n",
       "5045  Internship    Boston       Medium   25         Retail         Yes   \n",
       "5046    Contract    Boston        Small   22  Manufacturing         Yes   \n",
       "5047   Part-time    Remote   Enterprise   46      Education          No   \n",
       "5048  Internship    Austin        Small   21  Manufacturing         Yes   \n",
       "5049   Full-time  New York        Large   47      Education         Yes   \n",
       "\n",
       "             Skills  Performance_Rating  \n",
       "19              SQL                   1  \n",
       "228             C++                   4  \n",
       "309             SQL                   1  \n",
       "313   Data Analysis                   3  \n",
       "412             SQL                   4  \n",
       "...             ...                 ...  \n",
       "5045         Python                   5  \n",
       "5046           Java                   4  \n",
       "5047         Python                   5  \n",
       "5048          Excel                   2  \n",
       "5049            SQL                   1  \n",
       "\n",
       "[100 rows x 12 columns]"
      ]
     },
     "execution_count": 12,
     "metadata": {},
     "output_type": "execute_result"
    }
   ],
   "source": [
    "df[df.duplicated(keep = False)]"
   ]
  },
  {
   "cell_type": "markdown",
   "id": "e15a5204",
   "metadata": {},
   "source": [
    "*Check for inconsistent or incorrect entries.*"
   ]
  },
  {
   "cell_type": "code",
   "execution_count": 13,
   "id": "16156f7d",
   "metadata": {},
   "outputs": [
    {
     "name": "stdout",
     "output_type": "stream",
     "text": [
      "All values are positive in Experience_Years\n",
      "All values are positive in Salary\n",
      "All values are positive in Age\n",
      "All values are positive in Performance_Rating\n"
     ]
    }
   ],
   "source": [
    "for column in df.columns:\n",
    "    if df[column].dtype != \"object\":\n",
    "        if (df[column] < 0).any():\n",
    "            print(df[df[column]<0], [column].value_counts())\n",
    "        else:\n",
    "            print(\"All values are positive in\", column)\n",
    "        "
   ]
  },
  {
   "cell_type": "code",
   "execution_count": 14,
   "id": "f026c8f7",
   "metadata": {},
   "outputs": [
    {
     "name": "stdout",
     "output_type": "stream",
     "text": [
      "Empty DataFrame\n",
      "Columns: [Job_Title, Experience_Years, Education_Level, Salary, Job_Type, Location, Company_Size, Age, Industry, Remote_Work, Skills, Performance_Rating]\n",
      "Index: [] Empty DataFrame\n",
      "Columns: [Job_Title, Experience_Years, Education_Level, Salary, Job_Type, Location, Company_Size, Age, Industry, Remote_Work, Skills, Performance_Rating]\n",
      "Index: []\n"
     ]
    }
   ],
   "source": [
    "print(df[df[\"Age\"] > 120 ], df[df[\"Age\"] < 0 ]) "
   ]
  },
  {
   "cell_type": "code",
   "execution_count": 15,
   "id": "1e7be67e",
   "metadata": {},
   "outputs": [
    {
     "name": "stdout",
     "output_type": "stream",
     "text": [
      "Empty DataFrame\n",
      "Columns: [Job_Title, Experience_Years, Education_Level, Salary, Job_Type, Location, Company_Size, Age, Industry, Remote_Work, Skills, Performance_Rating]\n",
      "Index: [] Empty DataFrame\n",
      "Columns: [Job_Title, Experience_Years, Education_Level, Salary, Job_Type, Location, Company_Size, Age, Industry, Remote_Work, Skills, Performance_Rating]\n",
      "Index: []\n"
     ]
    }
   ],
   "source": [
    "print(df[df[\"Performance_Rating\"] > 5], df[df[\"Performance_Rating\"] < 0])"
   ]
  },
  {
   "cell_type": "code",
   "execution_count": 16,
   "id": "e777e3d4",
   "metadata": {},
   "outputs": [
    {
     "name": "stdout",
     "output_type": "stream",
     "text": [
      "Job_Title \n",
      " ['Sales Executive' 'Teacher' 'Nurse' 'Accountant' 'Data Scientist'\n",
      " 'Marketing Manager' 'Software Engineer']\n",
      "Education_Level \n",
      " ['Master' 'High School' 'PhD' 'Bachelor']\n",
      "Job_Type \n",
      " ['Full-time' 'Internship' 'Contract' 'Part-time']\n",
      "Location \n",
      " ['Boston' 'Seattle' 'Chicago' 'San Francisco' 'Austin' 'Remote' 'New York'\n",
      " nan]\n",
      "Company_Size \n",
      " ['Enterprise' 'Small' 'Medium' 'Large']\n",
      "Industry \n",
      " ['Finance' 'Retail' 'Education' 'IT' 'Healthcare' 'Manufacturing']\n",
      "Remote_Work \n",
      " ['No' 'Yes']\n",
      "Skills \n",
      " ['Data Analysis' 'Marketing' 'Java' 'Python' 'SQL' 'C++' 'Excel' nan]\n"
     ]
    }
   ],
   "source": [
    "for column in df.columns:\n",
    "    if df[column].dtype == \"object\":\n",
    "        print(column, \"\\n\", df[column].unique() )"
   ]
  },
  {
   "cell_type": "markdown",
   "id": "dc566d18",
   "metadata": {},
   "source": [
    "## Column-Level Analysis"
   ]
  },
  {
   "cell_type": "markdown",
   "id": "11f14425",
   "metadata": {},
   "source": [
    "*Count the number of unique values in categorical columns*"
   ]
  },
  {
   "cell_type": "code",
   "execution_count": 17,
   "id": "1d28e976",
   "metadata": {},
   "outputs": [],
   "source": [
    "with open(\"unique_values.txt\", \"w\" ) as f:\n",
    "    for column in df.columns:\n",
    "        if df[column].dtype == 'object':\n",
    "            output = df[column].value_counts().to_string()\n",
    "            f.write(output)\n",
    "            f.write(\"\\n\\n\")"
   ]
  },
  {
   "cell_type": "markdown",
   "id": "34b6b940",
   "metadata": {},
   "source": [
    "*Review data ranges for numerical columns.*"
   ]
  },
  {
   "cell_type": "code",
   "execution_count": 18,
   "id": "c026fa3e",
   "metadata": {},
   "outputs": [
    {
     "name": "stdout",
     "output_type": "stream",
     "text": [
      "Experience_Years range: 0 - 34\n",
      "Salary range: 1.0 - 3000000.0\n",
      "Age range: 10 - 120\n",
      "Performance_Rating range: 1 - 5\n"
     ]
    }
   ],
   "source": [
    "for column in df.columns:\n",
    "    if df[column].dtype != \"object\":\n",
    "        print(column,\"range:\" , df[column].min(),\"-\", df[column].max())"
   ]
  },
  {
   "cell_type": "markdown",
   "id": "2405ec2c",
   "metadata": {},
   "source": [
    "*how can a person have these salary and can live in nyc*"
   ]
  },
  {
   "cell_type": "code",
   "execution_count": 19,
   "id": "d0415058",
   "metadata": {},
   "outputs": [
    {
     "data": {
      "text/html": [
       "<div>\n",
       "<style scoped>\n",
       "    .dataframe tbody tr th:only-of-type {\n",
       "        vertical-align: middle;\n",
       "    }\n",
       "\n",
       "    .dataframe tbody tr th {\n",
       "        vertical-align: top;\n",
       "    }\n",
       "\n",
       "    .dataframe thead th {\n",
       "        text-align: right;\n",
       "    }\n",
       "</style>\n",
       "<table border=\"1\" class=\"dataframe\">\n",
       "  <thead>\n",
       "    <tr style=\"text-align: right;\">\n",
       "      <th></th>\n",
       "      <th>Job_Title</th>\n",
       "      <th>Experience_Years</th>\n",
       "      <th>Education_Level</th>\n",
       "      <th>Salary</th>\n",
       "      <th>Job_Type</th>\n",
       "      <th>Location</th>\n",
       "      <th>Company_Size</th>\n",
       "      <th>Age</th>\n",
       "      <th>Industry</th>\n",
       "      <th>Remote_Work</th>\n",
       "      <th>Skills</th>\n",
       "      <th>Performance_Rating</th>\n",
       "    </tr>\n",
       "  </thead>\n",
       "  <tbody>\n",
       "    <tr>\n",
       "      <th>1346</th>\n",
       "      <td>Software Engineer</td>\n",
       "      <td>1</td>\n",
       "      <td>PhD</td>\n",
       "      <td>50.0</td>\n",
       "      <td>Part-time</td>\n",
       "      <td>Boston</td>\n",
       "      <td>Enterprise</td>\n",
       "      <td>38</td>\n",
       "      <td>Education</td>\n",
       "      <td>No</td>\n",
       "      <td>Python</td>\n",
       "      <td>5</td>\n",
       "    </tr>\n",
       "    <tr>\n",
       "      <th>1495</th>\n",
       "      <td>Sales Executive</td>\n",
       "      <td>24</td>\n",
       "      <td>Bachelor</td>\n",
       "      <td>10.0</td>\n",
       "      <td>Part-time</td>\n",
       "      <td>New York</td>\n",
       "      <td>Medium</td>\n",
       "      <td>49</td>\n",
       "      <td>Retail</td>\n",
       "      <td>No</td>\n",
       "      <td>Data Analysis</td>\n",
       "      <td>5</td>\n",
       "    </tr>\n",
       "    <tr>\n",
       "      <th>2203</th>\n",
       "      <td>Teacher</td>\n",
       "      <td>25</td>\n",
       "      <td>Master</td>\n",
       "      <td>5.0</td>\n",
       "      <td>Full-time</td>\n",
       "      <td>Chicago</td>\n",
       "      <td>Medium</td>\n",
       "      <td>50</td>\n",
       "      <td>Manufacturing</td>\n",
       "      <td>No</td>\n",
       "      <td>Python</td>\n",
       "      <td>1</td>\n",
       "    </tr>\n",
       "    <tr>\n",
       "      <th>2289</th>\n",
       "      <td>Teacher</td>\n",
       "      <td>2</td>\n",
       "      <td>PhD</td>\n",
       "      <td>1.0</td>\n",
       "      <td>Contract</td>\n",
       "      <td>Remote</td>\n",
       "      <td>Enterprise</td>\n",
       "      <td>35</td>\n",
       "      <td>Healthcare</td>\n",
       "      <td>Yes</td>\n",
       "      <td>Data Analysis</td>\n",
       "      <td>4</td>\n",
       "    </tr>\n",
       "  </tbody>\n",
       "</table>\n",
       "</div>"
      ],
      "text/plain": [
       "              Job_Title  Experience_Years Education_Level  Salary   Job_Type  \\\n",
       "1346  Software Engineer                 1             PhD    50.0  Part-time   \n",
       "1495    Sales Executive                24        Bachelor    10.0  Part-time   \n",
       "2203            Teacher                25          Master     5.0  Full-time   \n",
       "2289            Teacher                 2             PhD     1.0   Contract   \n",
       "\n",
       "      Location Company_Size  Age       Industry Remote_Work         Skills  \\\n",
       "1346    Boston   Enterprise   38      Education          No         Python   \n",
       "1495  New York       Medium   49         Retail          No  Data Analysis   \n",
       "2203   Chicago       Medium   50  Manufacturing          No         Python   \n",
       "2289    Remote   Enterprise   35     Healthcare         Yes  Data Analysis   \n",
       "\n",
       "      Performance_Rating  \n",
       "1346                   5  \n",
       "1495                   5  \n",
       "2203                   1  \n",
       "2289                   4  "
      ]
     },
     "execution_count": 19,
     "metadata": {},
     "output_type": "execute_result"
    }
   ],
   "source": [
    "df[df[\"Salary\"] < 20000]"
   ]
  },
  {
   "cell_type": "markdown",
   "id": "df5629e1",
   "metadata": {},
   "source": [
    "# **Here exp years is more than the age, fix the age amd experience data**"
   ]
  },
  {
   "cell_type": "code",
   "execution_count": 20,
   "id": "38a0f1fd",
   "metadata": {},
   "outputs": [
    {
     "data": {
      "text/html": [
       "<div>\n",
       "<style scoped>\n",
       "    .dataframe tbody tr th:only-of-type {\n",
       "        vertical-align: middle;\n",
       "    }\n",
       "\n",
       "    .dataframe tbody tr th {\n",
       "        vertical-align: top;\n",
       "    }\n",
       "\n",
       "    .dataframe thead th {\n",
       "        text-align: right;\n",
       "    }\n",
       "</style>\n",
       "<table border=\"1\" class=\"dataframe\">\n",
       "  <thead>\n",
       "    <tr style=\"text-align: right;\">\n",
       "      <th></th>\n",
       "      <th>Job_Title</th>\n",
       "      <th>Experience_Years</th>\n",
       "      <th>Education_Level</th>\n",
       "      <th>Salary</th>\n",
       "      <th>Job_Type</th>\n",
       "      <th>Location</th>\n",
       "      <th>Company_Size</th>\n",
       "      <th>Age</th>\n",
       "      <th>Industry</th>\n",
       "      <th>Remote_Work</th>\n",
       "      <th>Skills</th>\n",
       "      <th>Performance_Rating</th>\n",
       "    </tr>\n",
       "  </thead>\n",
       "  <tbody>\n",
       "    <tr>\n",
       "      <th>3319</th>\n",
       "      <td>Accountant</td>\n",
       "      <td>8</td>\n",
       "      <td>High School</td>\n",
       "      <td>144145.0</td>\n",
       "      <td>Contract</td>\n",
       "      <td>Austin</td>\n",
       "      <td>Large</td>\n",
       "      <td>10</td>\n",
       "      <td>Manufacturing</td>\n",
       "      <td>No</td>\n",
       "      <td>C++</td>\n",
       "      <td>4</td>\n",
       "    </tr>\n",
       "    <tr>\n",
       "      <th>4542</th>\n",
       "      <td>Data Scientist</td>\n",
       "      <td>17</td>\n",
       "      <td>High School</td>\n",
       "      <td>41236.0</td>\n",
       "      <td>Full-time</td>\n",
       "      <td>Chicago</td>\n",
       "      <td>Enterprise</td>\n",
       "      <td>15</td>\n",
       "      <td>Finance</td>\n",
       "      <td>No</td>\n",
       "      <td>Marketing</td>\n",
       "      <td>1</td>\n",
       "    </tr>\n",
       "  </tbody>\n",
       "</table>\n",
       "</div>"
      ],
      "text/plain": [
       "           Job_Title  Experience_Years Education_Level    Salary   Job_Type  \\\n",
       "3319      Accountant                 8     High School  144145.0   Contract   \n",
       "4542  Data Scientist                17     High School   41236.0  Full-time   \n",
       "\n",
       "     Location Company_Size  Age       Industry Remote_Work     Skills  \\\n",
       "3319   Austin        Large   10  Manufacturing          No        C++   \n",
       "4542  Chicago   Enterprise   15        Finance          No  Marketing   \n",
       "\n",
       "      Performance_Rating  \n",
       "3319                   4  \n",
       "4542                   1  "
      ]
     },
     "execution_count": 20,
     "metadata": {},
     "output_type": "execute_result"
    }
   ],
   "source": [
    "df[df[\"Age\"] < 18]"
   ]
  },
  {
   "cell_type": "code",
   "execution_count": null,
   "id": "c3f1da28",
   "metadata": {},
   "outputs": [],
   "source": []
  },
  {
   "cell_type": "code",
   "execution_count": 21,
   "id": "db689715",
   "metadata": {},
   "outputs": [
    {
     "data": {
      "text/html": [
       "<div>\n",
       "<style scoped>\n",
       "    .dataframe tbody tr th:only-of-type {\n",
       "        vertical-align: middle;\n",
       "    }\n",
       "\n",
       "    .dataframe tbody tr th {\n",
       "        vertical-align: top;\n",
       "    }\n",
       "\n",
       "    .dataframe thead th {\n",
       "        text-align: right;\n",
       "    }\n",
       "</style>\n",
       "<table border=\"1\" class=\"dataframe\">\n",
       "  <thead>\n",
       "    <tr style=\"text-align: right;\">\n",
       "      <th></th>\n",
       "      <th>Job_Title</th>\n",
       "      <th>Experience_Years</th>\n",
       "      <th>Education_Level</th>\n",
       "      <th>Salary</th>\n",
       "      <th>Job_Type</th>\n",
       "      <th>Location</th>\n",
       "      <th>Company_Size</th>\n",
       "      <th>Age</th>\n",
       "      <th>Industry</th>\n",
       "      <th>Remote_Work</th>\n",
       "      <th>Skills</th>\n",
       "      <th>Performance_Rating</th>\n",
       "    </tr>\n",
       "  </thead>\n",
       "  <tbody>\n",
       "    <tr>\n",
       "      <th>633</th>\n",
       "      <td>Sales Executive</td>\n",
       "      <td>27</td>\n",
       "      <td>High School</td>\n",
       "      <td>3000000.0</td>\n",
       "      <td>Internship</td>\n",
       "      <td>Remote</td>\n",
       "      <td>Medium</td>\n",
       "      <td>49</td>\n",
       "      <td>Manufacturing</td>\n",
       "      <td>Yes</td>\n",
       "      <td>Excel</td>\n",
       "      <td>3</td>\n",
       "    </tr>\n",
       "    <tr>\n",
       "      <th>868</th>\n",
       "      <td>Software Engineer</td>\n",
       "      <td>22</td>\n",
       "      <td>PhD</td>\n",
       "      <td>2000000.0</td>\n",
       "      <td>Full-time</td>\n",
       "      <td>Austin</td>\n",
       "      <td>Small</td>\n",
       "      <td>49</td>\n",
       "      <td>Finance</td>\n",
       "      <td>No</td>\n",
       "      <td>C++</td>\n",
       "      <td>1</td>\n",
       "    </tr>\n",
       "    <tr>\n",
       "      <th>2565</th>\n",
       "      <td>Sales Executive</td>\n",
       "      <td>13</td>\n",
       "      <td>PhD</td>\n",
       "      <td>1000000.0</td>\n",
       "      <td>Contract</td>\n",
       "      <td>Seattle</td>\n",
       "      <td>Enterprise</td>\n",
       "      <td>64</td>\n",
       "      <td>Manufacturing</td>\n",
       "      <td>Yes</td>\n",
       "      <td>Java</td>\n",
       "      <td>4</td>\n",
       "    </tr>\n",
       "    <tr>\n",
       "      <th>3684</th>\n",
       "      <td>Nurse</td>\n",
       "      <td>33</td>\n",
       "      <td>PhD</td>\n",
       "      <td>750000.0</td>\n",
       "      <td>Part-time</td>\n",
       "      <td>Seattle</td>\n",
       "      <td>Large</td>\n",
       "      <td>44</td>\n",
       "      <td>IT</td>\n",
       "      <td>Yes</td>\n",
       "      <td>C++</td>\n",
       "      <td>4</td>\n",
       "    </tr>\n",
       "    <tr>\n",
       "      <th>3739</th>\n",
       "      <td>Sales Executive</td>\n",
       "      <td>32</td>\n",
       "      <td>PhD</td>\n",
       "      <td>999999.0</td>\n",
       "      <td>Contract</td>\n",
       "      <td>Austin</td>\n",
       "      <td>Medium</td>\n",
       "      <td>54</td>\n",
       "      <td>Finance</td>\n",
       "      <td>Yes</td>\n",
       "      <td>SQL</td>\n",
       "      <td>3</td>\n",
       "    </tr>\n",
       "    <tr>\n",
       "      <th>4452</th>\n",
       "      <td>Software Engineer</td>\n",
       "      <td>34</td>\n",
       "      <td>High School</td>\n",
       "      <td>500000.0</td>\n",
       "      <td>Contract</td>\n",
       "      <td>San Francisco</td>\n",
       "      <td>Enterprise</td>\n",
       "      <td>28</td>\n",
       "      <td>Finance</td>\n",
       "      <td>Yes</td>\n",
       "      <td>Marketing</td>\n",
       "      <td>3</td>\n",
       "    </tr>\n",
       "  </tbody>\n",
       "</table>\n",
       "</div>"
      ],
      "text/plain": [
       "              Job_Title  Experience_Years Education_Level     Salary  \\\n",
       "633     Sales Executive                27     High School  3000000.0   \n",
       "868   Software Engineer                22             PhD  2000000.0   \n",
       "2565    Sales Executive                13             PhD  1000000.0   \n",
       "3684              Nurse                33             PhD   750000.0   \n",
       "3739    Sales Executive                32             PhD   999999.0   \n",
       "4452  Software Engineer                34     High School   500000.0   \n",
       "\n",
       "        Job_Type       Location Company_Size  Age       Industry Remote_Work  \\\n",
       "633   Internship         Remote       Medium   49  Manufacturing         Yes   \n",
       "868    Full-time         Austin        Small   49        Finance          No   \n",
       "2565    Contract        Seattle   Enterprise   64  Manufacturing         Yes   \n",
       "3684   Part-time        Seattle        Large   44             IT         Yes   \n",
       "3739    Contract         Austin       Medium   54        Finance         Yes   \n",
       "4452    Contract  San Francisco   Enterprise   28        Finance         Yes   \n",
       "\n",
       "         Skills  Performance_Rating  \n",
       "633       Excel                   3  \n",
       "868         C++                   1  \n",
       "2565       Java                   4  \n",
       "3684        C++                   4  \n",
       "3739        SQL                   3  \n",
       "4452  Marketing                   3  "
      ]
     },
     "execution_count": 21,
     "metadata": {},
     "output_type": "execute_result"
    }
   ],
   "source": [
    "df[df[\"Salary\"] > 150000]"
   ]
  },
  {
   "cell_type": "markdown",
   "id": "77d6a58f",
   "metadata": {},
   "source": [
    "## **Cleaning the data**"
   ]
  },
  {
   "cell_type": "code",
   "execution_count": 22,
   "id": "e6bd1bdf",
   "metadata": {},
   "outputs": [
    {
     "data": {
      "text/plain": [
       "np.int64(0)"
      ]
     },
     "execution_count": 22,
     "metadata": {},
     "output_type": "execute_result"
    }
   ],
   "source": [
    "df = df.drop_duplicates()\n",
    "df.duplicated().sum()"
   ]
  },
  {
   "cell_type": "markdown",
   "id": "3f36cfd3",
   "metadata": {},
   "source": [
    "## *Visualizing the data* "
   ]
  },
  {
   "cell_type": "code",
   "execution_count": 23,
   "id": "f78c69a2",
   "metadata": {},
   "outputs": [
    {
     "data": {
      "image/png": "[encoded data removed]",
      "text/plain": [
       "<Figure size 800x600 with 1 Axes>"
      ]
     },
     "metadata": {},
     "output_type": "display_data"
    }
   ],
   "source": [
    "plt.figure(figsize=(8,6))\n",
    "sns.scatterplot(data = df , x =\"Age\" , y = \"Experience_Years\")\n",
    "plt.grid(True)\n",
    "plt.show()"
   ]
  },
  {
   "cell_type": "code",
   "execution_count": 29,
   "id": "a6ee7a18",
   "metadata": {},
   "outputs": [
    {
     "data": {
      "text/plain": [
       "<Axes: xlabel='Age', ylabel='Density'>"
      ]
     },
     "execution_count": 29,
     "metadata": {},
     "output_type": "execute_result"
    },
    {
     "data": {
      "image/png": "[encoded data removed]",
      "text/plain": [
       "<Figure size 800x600 with 1 Axes>"
      ]
     },
     "metadata": {},
     "output_type": "display_data"
    }
   ],
   "source": [
    "plt.figure(figsize=(8,6))\n",
    "sns.kdeplot(df[\"Age\"] )"
   ]
  },
  {
   "cell_type": "code",
   "execution_count": 24,
   "id": "ccc4fde0",
   "metadata": {},
   "outputs": [
    {
     "data": {
      "text/plain": [
       "<Axes: xlabel='Age', ylabel='Count'>"
      ]
     },
     "execution_count": 24,
     "metadata": {},
     "output_type": "execute_result"
    },
    {
     "data": {
      "image/png": "[encoded data removed]",
      "text/plain": [
       "<Figure size 800x600 with 1 Axes>"
      ]
     },
     "metadata": {},
     "output_type": "display_data"
    }
   ],
   "source": [
    "plt.figure(figsize=(8,6))\n",
    "sns.histplot(df[\"Age\"], bins = 30)"
   ]
  },
  {
   "cell_type": "code",
   "execution_count": 25,
   "id": "e27cdb80",
   "metadata": {},
   "outputs": [
    {
     "data": {
      "image/png": "[encoded data removed]",
      "text/plain": [
       "<Figure size 800x600 with 1 Axes>"
      ]
     },
     "metadata": {},
     "output_type": "display_data"
    }
   ],
   "source": [
    "plt.figure(figsize=(8,6))\n",
    "sns.boxplot(x = df[\"Age\"])\n",
    "plt.show()"
   ]
  },
  {
   "cell_type": "code",
   "execution_count": 27,
   "id": "9b379b3f",
   "metadata": {},
   "outputs": [
    {
     "data": {
      "text/plain": [
       "<Axes: xlabel='Experience_Years', ylabel='Density'>"
      ]
     },
     "execution_count": 27,
     "metadata": {},
     "output_type": "execute_result"
    },
    {
     "data": {
      "image/png": "[encoded data removed]",
      "text/plain": [
       "<Figure size 800x600 with 1 Axes>"
      ]
     },
     "metadata": {},
     "output_type": "display_data"
    }
   ],
   "source": [
    "plt.figure(figsize = (8,6))\n",
    "sns.kdeplot(data =df, x = \"Experience_Years\")"
   ]
  },
  {
   "cell_type": "code",
   "execution_count": null,
   "id": "5513f681",
   "metadata": {},
   "outputs": [
    {
     "data": {
      "image/png": "[encoded data removed]",
      "text/plain": [
       "<Figure size 800x600 with 1 Axes>"
      ]
     },
     "metadata": {},
     "output_type": "display_data"
    }
   ],
   "source": [
    "plt.figure(figsize=(8,6))\n",
    "sns.boxplot(x = df[\"Experience_Years\"])\n",
    "plt.show()"
   ]
  },
  {
   "cell_type": "code",
   "execution_count": 28,
   "id": "8cc08178",
   "metadata": {},
   "outputs": [
    {
     "data": {
      "text/plain": [
       "<Axes: xlabel='Salary', ylabel='Density'>"
      ]
     },
     "execution_count": 28,
     "metadata": {},
     "output_type": "execute_result"
    },
    {
     "data": {
      "image/png": "[encoded data removed]",
      "text/plain": [
       "<Figure size 800x600 with 1 Axes>"
      ]
     },
     "metadata": {},
     "output_type": "display_data"
    }
   ],
   "source": [
    "plt.figure(figsize=(8,6))\n",
    "sns.kdeplot(x = df[\"Salary\"])"
   ]
  },
  {
   "cell_type": "code",
   "execution_count": null,
   "id": "43b99a30",
   "metadata": {},
   "outputs": [
    {
     "data": {
      "image/png": "[encoded data removed]",
      "text/plain": [
       "<Figure size 800x600 with 1 Axes>"
      ]
     },
     "metadata": {},
     "output_type": "display_data"
    }
   ],
   "source": [
    "plt.figure(figsize=(8,6))\n",
    "sns.boxplot(x = df[\"Salary\"])\n",
    "plt.show()"
   ]
  },
  {
   "cell_type": "code",
   "execution_count": null,
   "id": "bc1111cf",
   "metadata": {},
   "outputs": [
    {
     "data": {
      "text/plain": [
       "<Axes: xlabel='Experience_Years', ylabel='Salary'>"
      ]
     },
     "execution_count": 75,
     "metadata": {},
     "output_type": "execute_result"
    },
    {
     "data": {
      "image/png": "[encoded data removed]",
      "text/plain": [
       "<Figure size 800x600 with 1 Axes>"
      ]
     },
     "metadata": {},
     "output_type": "display_data"
    }
   ],
   "source": [
    "plt.figure(figsize=(8,6))\n",
    "sns.scatterplot(data = df, x = \"Experience_Years\", y = \"Salary\", hue = \"Performance_Rating\")"
   ]
  },
  {
   "cell_type": "markdown",
   "id": "ddca4ad2",
   "metadata": {},
   "source": [
    "## *Insights*\n",
    "# *salary vs exp year does not have relation*\n",
    "# *Age vs performance as age inc so ratings*\n",
    "# *exp, salary has no relation with ratings*\n"
   ]
  },
  {
   "cell_type": "code",
   "execution_count": null,
   "id": "6a7bc560",
   "metadata": {},
   "outputs": [
    {
     "data": {
      "image/png": "[encoded data removed]",
      "text/plain": [
       "<Figure size 640x480 with 2 Axes>"
      ]
     },
     "metadata": {},
     "output_type": "display_data"
    }
   ],
   "source": [
    "corr = df.select_dtypes(include=[int, float]).corr()\n",
    "sns.heatmap(corr, annot=True, cmap=\"coolwarm\")\n",
    "plt.show()"
   ]
  },
  {
   "cell_type": "code",
   "execution_count": null,
   "id": "0ea4b139",
   "metadata": {},
   "outputs": [],
   "source": []
  }
 ],
 "metadata": {
  "kernelspec": {
   "display_name": "projects_venv",
   "language": "python",
   "name": "python3"
  },
  "language_info": {
   "codemirror_mode": {
    "name": "ipython",
    "version": 3
   },
   "file_extension": ".py",
   "mimetype": "text/x-python",
   "name": "python",
   "nbconvert_exporter": "python",
   "pygments_lexer": "ipython3",
   "version": "3.13.2"
  }
 },
 "nbformat": 4,
 "nbformat_minor": 5
}
